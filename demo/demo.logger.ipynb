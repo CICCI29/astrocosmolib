{
 "cells": [
  {
   "cell_type": "code",
   "execution_count": 5,
   "metadata": {},
   "outputs": [],
   "source": [
    "# import  pyACC\n",
    "\n",
    "import sys\n",
    "sys.path.append(\"../\")\n",
    "\n",
    "\n"
   ]
  },
  {
   "cell_type": "code",
   "execution_count": 8,
   "metadata": {},
   "outputs": [],
   "source": [
    "#import Logger\n",
    "from pyACC.helpers import Logger\n"
   ]
  },
  {
   "cell_type": "code",
   "execution_count": 11,
   "metadata": {},
   "outputs": [],
   "source": [
    "# Initialize the logger\n",
    "logger = Logger(\"MATTEO\")"
   ]
  },
  {
   "cell_type": "code",
   "execution_count": 14,
   "metadata": {},
   "outputs": [
    {
     "name": "stdout",
     "output_type": "stream",
     "text": [
      "2025-03-05 10:04:36.977385 :: \u001b[1m\u001b[35mMATTEO\u001b[0m :: \u001b[32mINFO\u001b[0m :: ciao\n"
     ]
    }
   ],
   "source": [
    "#Info message\n",
    "logger(\"ciao\")"
   ]
  },
  {
   "cell_type": "code",
   "execution_count": 15,
   "metadata": {},
   "outputs": [
    {
     "name": "stdout",
     "output_type": "stream",
     "text": [
      "2025-03-05 10:05:15.138236 :: \u001b[1m\u001b[35mMATTEO\u001b[0m :: \u001b[33mWARNING\u001b[0m :: this is a warning\n"
     ]
    }
   ],
   "source": [
    "#Warning message\n",
    "logger.warning(\"this is a warning\")"
   ]
  },
  {
   "cell_type": "code",
   "execution_count": 16,
   "metadata": {},
   "outputs": [
    {
     "name": "stdout",
     "output_type": "stream",
     "text": [
      "2025-03-05 10:05:44.423653 :: \u001b[1m\u001b[35mMATTEO\u001b[0m :: \u001b[31mERROR\u001b[0m :: this is an error\n"
     ]
    }
   ],
   "source": [
    "#Error message\n",
    "logger.error(\"this is an error\")"
   ]
  }
 ],
 "metadata": {
  "kernelspec": {
   "display_name": "base",
   "language": "python",
   "name": "python3"
  },
  "language_info": {
   "codemirror_mode": {
    "name": "ipython",
    "version": 3
   },
   "file_extension": ".py",
   "mimetype": "text/x-python",
   "name": "python",
   "nbconvert_exporter": "python",
   "pygments_lexer": "ipython3",
   "version": "3.12.7"
  }
 },
 "nbformat": 4,
 "nbformat_minor": 2
}
